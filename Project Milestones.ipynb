{
 "cells": [
  {
   "cell_type": "markdown",
   "id": "interim-diesel",
   "metadata": {},
   "source": [
    "Project Milestones"
   ]
  },
  {
   "cell_type": "markdown",
   "id": "upper-glossary",
   "metadata": {},
   "source": [
    "Group 4, Neocognitron- Image Captioning\n",
    "\n",
    "Zernab Saeed, Daniel Sindell, Pratap Karki, Michael Kwarteng and Alex Lopez"
   ]
  },
  {
   "cell_type": "markdown",
   "id": "infinite-employment",
   "metadata": {},
   "source": [
    "3/15/2021\n",
    "\n",
    "| Deliverable    | Percent Complete  | Estimated Completion Date    | Percent Complete by Next Milestone    |\n",
    "| :------------- | :---------------  | :--------------------------- | :------------------------------------ |\n",
    "| Code           | 0%                | Apr 14                       | 25%                                   |\n",
    "| Paper          | 0%                | Apr 20                       | 10%                                   |\n",
    "| Demo           | 0%                | May 1                        | 5%                                    |\n",
    "| Presentation   | 0%                | May 3                        | 0%                                    | \n",
    "\n",
    "1. This is the first milestones report, no goals have been set prior to this report.\n",
    "\n",
    "2. This is the first milestones report, no goals have been set prior to this report.\n",
    "\n",
    "3. Goals:\n",
    "          1.) Read chapter 9 in the course textbook regarding Convolutional Neural Networks. (all group members)\n",
    "          2.) Decide what resolution images are being input and of what objects (all group members)\n",
    "          3.) Begin coding on the Convolution stage (Daniel Sindell, Pratap Karki)\n",
    "          4.) Begin coding on the Detector stage  (Michael Kwarteng, Alex Lopez)\n",
    "          5.) Seek advice regarding convolution network design at office hours(Zernab Saeed)\n",
    "          6.) All group members should have successfully commit and pushed an update to the GitHub\n",
    "          "
   ]
  },
  {
   "cell_type": "markdown",
   "id": "practical-means",
   "metadata": {},
   "source": [
    "3/22/2021\n",
    "\n",
    "| Deliverable    | Percent Complete  | Estimated Completion Date    | Percent Complete by Next Milestone    |\n",
    "| :------------- | :---------------  | :--------------------------- | :------------------------------------ |\n",
    "| Code           | 0%                | Apr 14                       | 25%                                   |\n",
    "| Paper          | 5%                | Apr 20                       | 10%                                   |\n",
    "| Demo           | 0%                | May 1                        | 5%                                    |\n",
    "| Presentation   | 0%                | May 3                        | 0%                                    | \n",
    "\n",
    "1. None of the deliverable goals were achieved. Zernab Saeed began research towards the completion of the Paper 5%. Zernab Saeed, Daniel Sindell, and Partap Karki have successfully pushed to the GitHub repository.\n",
    "\n",
    "2. Goals not achieved from previous week:\n",
    "          1.) Read chapter 9 in the course textbook regarding Convolutional Neural Networks. (all group members)\n",
    "          2.) Decide what resolution images are being input and of what objects (all group members)\n",
    "          3.) Begin coding on the Convolution stage (Daniel Sindell, Pratap Karki)\n",
    "          4.) Begin coding on the Detector stage  (Michael Kwarteng, Alex Lopez)\n",
    "          5.) Seek advice regarding convolution network design at office hours(Zernab Saeed)\n",
    "          6.) All group members should have successfully commit and pushed an update to the GitHub\n",
    "\n",
    "3. Goals:\n",
    "          1.) Read chapter 9 in the course textbook regarding Convolutional Neural Networks. (all group members)\n",
    "          2.) Decide what resolution images are being input and of what objects (all group members)\n",
    "          3.) Begin coding on the Convolution stage (Daniel Sindell, Pratap Karki)\n",
    "          4.) Begin coding on the Detector stage  (Michael Kwarteng, Alex Lopez)\n",
    "          5.) Seek advice regarding convolution network design at office hours(Zernab Saeed)\n",
    "          6.) All group members should have successfully commit and pushed an update to the GitHub\n",
    "          "
   ]
  },
  {
   "cell_type": "markdown",
   "id": "environmental-above",
   "metadata": {},
   "source": [
    "3/29/2021\n",
    "\n",
    "| Deliverable    | Percent Complete  | Estimated Completion Date    | Percent Complete by Next Milestone    |\n",
    "| :------------- | :---------------  | :--------------------------- | :------------------------------------ |\n",
    "| Code           | 2%                | Apr 14                       | 25%                                   |\n",
    "| Paper          | 5%                | Apr 20                       | 10%                                   |\n",
    "| Demo           | 0%                | May 1                        | 5%                                    |\n",
    "| Presentation   | 0%                | May 3                        | 0%                                    | \n",
    "\n",
    "1. None of the deliverable goals were achieved. Zernab Saeed and Alex Lopez are continuing have completed 10%. Zernab Saeed, Daniel Sindell, and Partap Karki have successfully pushed to the GitHub repository.\n",
    "\n",
    "2. Goals not achieved from previous week:\n",
    "          1.) Read chapter 9 in the course textbook regarding Convolutional Neural Networks. (all group members)\n",
    "          2.) Decide what resolution images are being input and of what objects (all group members)\n",
    "          3.) Begin coding on the Convolution stage (Daniel Sindell, Pratap Karki)\n",
    "          4.) Begin coding on the Detector stage  (Michael Kwarteng, Alex Lopez)\n",
    "          5.) Seek advice regarding convolution network design at office hours(Zernab Saeed)\n",
    "          6.) All group members should have successfully commit and pushed an update to the GitHub\n",
    "\n",
    "3. Goals:\n",
    "          1.) Read chapter 9 in the course textbook regarding Convolutional Neural Networks. (all group members)\n",
    "          2.) Decide what resolution images are being input and of what objects (all group members)\n",
    "          3.) Begin coding on the Convolution stage (Daniel Sindell, Pratap Karki)\n",
    "          4.) Begin coding on the Detector stage  (Michael Kwarteng, Alex Lopez)\n",
    "          5.) Seek advice regarding convolution network design at office hours(Zernab Saeed)\n",
    "          6.) All group members should have successfully commit and pushed an update to the GitHub\n",
    "          "
   ]
  },
  {
   "cell_type": "markdown",
   "id": "informational-ordering",
   "metadata": {},
   "source": [
    "4/5/2021\n",
    "\n",
    "| Deliverable    | Percent Complete  | Estimated Completion Date    | Percent Complete by Next Milestone    |\n",
    "| :------------- | :---------------  | :--------------------------- | :------------------------------------ |\n",
    "| Code           | 20%               | Apr 14                       | 50%                                   |\n",
    "| Paper          | 50%               | Apr 20                       | 70%                                   |\n",
    "| Demo           | 0%                | May 1                        | 5%                                    |\n",
    "| Presentation   | 0%                | May 3                        | 0%                                    | \n",
    "\n",
    "1. None of the deliverable goals were achieved. Zernab Saeed and Alex Lopez are continuing have completed 10%. Zernab Saeed, Daniel Sindell, and Partap Karki have successfully pushed to the GitHub repository.\n",
    "\n",
    "2. Goals not achieved from previous week:\n",
    "          1.) Read chapter 9 in the course textbook regarding Convolutional Neural Networks. (all group members)\n",
    "          2.) Decide what resolution images are being input and of what objects (all group members)\n",
    "          3.) Begin coding on the Convolution stage (Daniel Sindell, Pratap Karki)\n",
    "          4.) Begin coding on the Detector stage  (Michael Kwarteng, Alex Lopez)\n",
    "          5.) Seek advice regarding convolution network design at office hours(Zernab Saeed)\n",
    "          6.) All group members should have successfully commit and pushed an update to the GitHub\n",
    "\n",
    "3. Goals:\n",
    "          1.) Read chapter 9 in the course textbook regarding Convolutional Neural Networks. (all group members)\n",
    "          2.) Decide what resolution images are being input and of what objects (all group members)\n",
    "          3.) Begin coding on the Convolution stage (Daniel Sindell, Pratap Karki)\n",
    "          4.) Begin coding on the Detector stage  (Michael Kwarteng, Alex Lopez)\n",
    "          5.) Seek advice regarding convolution network design at office hours(Zernab Saeed)\n",
    "          6.) All group members should have successfully commit and pushed an update to the GitHub\n",
    "          "
   ]
  },
  {
   "cell_type": "markdown",
   "id": "relative-stupid",
   "metadata": {},
   "source": [
    "4/12/2021\n",
    "\n",
    "| Deliverable    | Percent Complete  | Estimated Completion Date    | Percent Complete by Next Milestone    |\n",
    "| :------------- | :---------------  | :--------------------------- | :------------------------------------ |\n",
    "| Code           | 40%               | Apr 16                       | 50%                                   |\n",
    "| Paper          | 80%               | Apr 20                       | 100%                                  |\n",
    "| Demo           | 0%                | May 1                        | 20%                                   |\n",
    "| Presentation   | 0%                | May 3                        | 0%                                    | \n",
    "\n",
    "1. The paper is 80% complete. The Xception model was used with ImageNet weights to generate predictions which were filtered with a threshold of 45% to generate captions for the images provided in OLA6. Daniel talked with the professor for advice on an approach that would stop duplicate captions for the same object in an image by zeroing out data at the Kernel location responsible for the primary prediction. Zernab Saeed, Daniel Sindell, Alex Lopez and Partap Karki have successfully pushed to the GitHub repository.\n",
    "\n",
    "2. Goals not achieved from previous week:\n",
    "          1.) Read chapter 9 in the course textbook regarding Convolutional Neural Networks. (all group members)\n",
    "          2.) All group members should have successfully commit and pushed an update to the GitHub\n",
    "\n",
    "3. Goals:\n",
    "          1.) Finish the paper in Latex format.\n",
    "          2.) Begin production of a video presentation for the project demo.\n",
    "          3.) Stop duplicate captioning per object by figuring how to zero the data at the kernel location responsible for the primary prediction.\n",
    "          "
   ]
  }
 ],
 "metadata": {
  "kernelspec": {
   "display_name": "Python 3",
   "language": "python",
   "name": "python3"
  },
  "language_info": {
   "codemirror_mode": {
    "name": "ipython",
    "version": 3
   },
   "file_extension": ".py",
   "mimetype": "text/x-python",
   "name": "python",
   "nbconvert_exporter": "python",
   "pygments_lexer": "ipython3",
   "version": "3.8.6"
  }
 },
 "nbformat": 4,
 "nbformat_minor": 5
}
