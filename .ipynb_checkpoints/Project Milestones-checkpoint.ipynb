{
 "cells": [
  {
   "cell_type": "markdown",
   "id": "sorted-holmes",
   "metadata": {},
   "source": [
    "Project Milestones"
   ]
  },
  {
   "cell_type": "markdown",
   "id": "narrow-skating",
   "metadata": {},
   "source": [
    "Group 4, Neocognitron- Image Captioning\n",
    "\n",
    "Zernab Saeed, Daniel Sindell, Pratap Karki, Michael Kwarteng and Alex Lopez"
   ]
  },
  {
   "cell_type": "markdown",
   "id": "failing-delaware",
   "metadata": {},
   "source": [
    "3/15/2021\n",
    "\n",
    "| Deliverable    | Percent Complete  | Estimated Completion Date    | Percent Complete by Next Milestone    |\n",
    "| :------------- | :---------------  | :--------------------------- | :------------------------------------ |\n",
    "| Code           | 0%                | Apr 14                       | 25%                                   |\n",
    "| Paper          | 0%                | Apr 20                       | 10%                                   |\n",
    "| Demo           | 0%                | May 1                        | 5%                                    |\n",
    "| Presentation   | 0%                | May 3                        | 0%                                    | \n",
    "\n",
    "1. This is the first milestones report, no goals have been set prior to this report.\n",
    "\n",
    "2. This is the first milestones report, no goals have been set prior to this report.\n",
    "\n",
    "3. Goals:\n",
    "          1.) Read chapter 9 in the course textbook regarding Convolutional Neural Networks. (all group members)\n",
    "          2.) Decide what resolution images are being input and of what objects (all group members)\n",
    "          3.) Begin coding on the Convolution stage (Daniel Sindell, Pratap Karki)\n",
    "          4.) Begin coding on the Detector stage  (Michael Kwarteng, Alex Lopez)\n",
    "          5.) Seek advice regarding convolution network design at office hours(Zernab Saeed)\n",
    "          6.) All group members should have successfully commit and pushed an update to the GitHub\n",
    "          "
   ]
  },
  {
   "cell_type": "markdown",
   "id": "reasonable-extraction",
   "metadata": {},
   "source": [
    "3/22/2021\n",
    "\n",
    "| Deliverable    | Percent Complete  | Estimated Completion Date    | Percent Complete by Next Milestone    |\n",
    "| :------------- | :---------------  | :--------------------------- | :------------------------------------ |\n",
    "| Code           | 0%                | Apr 14                       | 25%                                   |\n",
    "| Paper          | 5%                | Apr 20                       | 10%                                   |\n",
    "| Demo           | 0%                | May 1                        | 5%                                    |\n",
    "| Presentation   | 0%                | May 3                        | 0%                                    | \n",
    "\n",
    "1. None of the deliverable goals were achieved. Zernab Saeed began research towards the completion of the Paper 5%. Zernab Saeed, Daniel Sindell, and Partap Karki have successfully pushed to the GitHub repository.\n",
    "\n",
    "2. Goals not achieved from previous week:\n",
    "          1.) Read chapter 9 in the course textbook regarding Convolutional Neural Networks. (all group members)\n",
    "          2.) Decide what resolution images are being input and of what objects (all group members)\n",
    "          3.) Begin coding on the Convolution stage (Daniel Sindell, Pratap Karki)\n",
    "          4.) Begin coding on the Detector stage  (Michael Kwarteng, Alex Lopez)\n",
    "          5.) Seek advice regarding convolution network design at office hours(Zernab Saeed)\n",
    "          6.) All group members should have successfully commit and pushed an update to the GitHub\n",
    "\n",
    "3. Goals:\n",
    "          1.) Read chapter 9 in the course textbook regarding Convolutional Neural Networks. (all group members)\n",
    "          2.) Decide what resolution images are being input and of what objects (all group members)\n",
    "          3.) Begin coding on the Convolution stage (Daniel Sindell, Pratap Karki)\n",
    "          4.) Begin coding on the Detector stage  (Michael Kwarteng, Alex Lopez)\n",
    "          5.) Seek advice regarding convolution network design at office hours(Zernab Saeed)\n",
    "          6.) All group members should have successfully commit and pushed an update to the GitHub\n",
    "          "
   ]
  },
  {
   "cell_type": "markdown",
   "id": "roman-behalf",
   "metadata": {},
   "source": [
    "3/29/2021\n",
    "\n",
    "| Deliverable    | Percent Complete  | Estimated Completion Date    | Percent Complete by Next Milestone    |\n",
    "| :------------- | :---------------  | :--------------------------- | :------------------------------------ |\n",
    "| Code           | 2%                | Apr 14                       | 25%                                   |\n",
    "| Paper          | 5%                | Apr 20                       | 10%                                   |\n",
    "| Demo           | 0%                | May 1                        | 5%                                    |\n",
    "| Presentation   | 0%                | May 3                        | 0%                                    | \n",
    "\n",
    "1. None of the deliverable goals were achieved. Zernab Saeed and Alex Lopez are continuing have completed 10%. Zernab Saeed, Daniel Sindell, and Partap Karki have successfully pushed to the GitHub repository.\n",
    "\n",
    "2. Goals not achieved from previous week:\n",
    "          1.) Read chapter 9 in the course textbook regarding Convolutional Neural Networks. (all group members)\n",
    "          2.) Decide what resolution images are being input and of what objects (all group members)\n",
    "          3.) Begin coding on the Convolution stage (Daniel Sindell, Pratap Karki)\n",
    "          4.) Begin coding on the Detector stage  (Michael Kwarteng, Alex Lopez)\n",
    "          5.) Seek advice regarding convolution network design at office hours(Zernab Saeed)\n",
    "          6.) All group members should have successfully commit and pushed an update to the GitHub\n",
    "\n",
    "3. Goals:\n",
    "          1.) Read chapter 9 in the course textbook regarding Convolutional Neural Networks. (all group members)\n",
    "          2.) Decide what resolution images are being input and of what objects (all group members)\n",
    "          3.) Begin coding on the Convolution stage (Daniel Sindell, Pratap Karki)\n",
    "          4.) Begin coding on the Detector stage  (Michael Kwarteng, Alex Lopez)\n",
    "          5.) Seek advice regarding convolution network design at office hours(Zernab Saeed)\n",
    "          6.) All group members should have successfully commit and pushed an update to the GitHub\n",
    "          "
   ]
  },
  {
   "cell_type": "markdown",
   "id": "lesbian-george",
   "metadata": {},
   "source": [
    "4/5/2021\n",
    "\n",
    "| Deliverable    | Percent Complete  | Estimated Completion Date    | Percent Complete by Next Milestone    |\n",
    "| :------------- | :---------------  | :--------------------------- | :------------------------------------ |\n",
    "| Code           | 20%               | Apr 14                       | 50%                                   |\n",
    "| Paper          | 50%               | Apr 20                       | 70%                                   |\n",
    "| Demo           | 0%                | May 1                        | 5%                                    |\n",
    "| Presentation   | 0%                | May 3                        | 0%                                    | \n",
    "\n",
    "1. None of the deliverable goals were achieved. Zernab Saeed and Alex Lopez are continuing have completed 10%. Zernab Saeed, Daniel Sindell, and Partap Karki have successfully pushed to the GitHub repository.\n",
    "\n",
    "2. Goals not achieved from previous week:\n",
    "          1.) Read chapter 9 in the course textbook regarding Convolutional Neural Networks. (all group members)\n",
    "          2.) Decide what resolution images are being input and of what objects (all group members)\n",
    "          3.) Begin coding on the Convolution stage (Daniel Sindell, Pratap Karki)\n",
    "          4.) Begin coding on the Detector stage  (Michael Kwarteng, Alex Lopez)\n",
    "          5.) Seek advice regarding convolution network design at office hours(Zernab Saeed)\n",
    "          6.) All group members should have successfully commit and pushed an update to the GitHub\n",
    "\n",
    "3. Goals:\n",
    "          1.) Read chapter 9 in the course textbook regarding Convolutional Neural Networks. (all group members)\n",
    "          2.) Decide what resolution images are being input and of what objects (all group members)\n",
    "          3.) Begin coding on the Convolution stage (Daniel Sindell, Pratap Karki)\n",
    "          4.) Begin coding on the Detector stage  (Michael Kwarteng, Alex Lopez)\n",
    "          5.) Seek advice regarding convolution network design at office hours(Zernab Saeed)\n",
    "          6.) All group members should have successfully commit and pushed an update to the GitHub\n",
    "          "
   ]
  }
 ],
 "metadata": {
  "kernelspec": {
   "display_name": "Python 3",
   "language": "python",
   "name": "python3"
  },
  "language_info": {
   "codemirror_mode": {
    "name": "ipython",
    "version": 3
   },
   "file_extension": ".py",
   "mimetype": "text/x-python",
   "name": "python",
   "nbconvert_exporter": "python",
   "pygments_lexer": "ipython3",
   "version": "3.8.6"
  }
 },
 "nbformat": 4,
 "nbformat_minor": 5
}
