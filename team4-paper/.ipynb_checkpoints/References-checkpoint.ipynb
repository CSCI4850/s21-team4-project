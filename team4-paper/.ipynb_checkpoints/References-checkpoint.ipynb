{
 "cells": [
  {
   "cell_type": "raw",
   "metadata": {},
   "source": [
    "@misc{b1,\n",
    "      title={Xception: Deep Learning with Depthwise Separable Convolutions}, \n",
    "      author={François Chollet},\n",
    "      year={2017},\n",
    "      eprint={1610.02357},\n",
    "      archivePrefix={arXiv},\n",
    "      primaryClass={cs.CV}\n",
    "}"
   ]
  },
  {
   "cell_type": "raw",
   "metadata": {},
   "source": [
    "@online{b2,\n",
    "  author = {Jason Brownlee},\n",
    "  title = {{How to Use Small Experiments to Develop a Caption Generation Model in Keras},\n",
    "  year = 2017,\n",
    "  url = {https://machinelearningmastery.com/develop-a-caption-generation-model-in-keras/},\n",
    "}"
   ]
  },
  {
   "cell_type": "raw",
   "metadata": {},
   "source": [
    "@online{b3,\n",
    "  author = {Geeks for Geeks},\n",
    "  title = {Image Caption Generator using Deep Learning on Flickr8K dataset},\n",
    "  url = {https://www.geeksforgeeks.org/image-caption-generator-using-deep-learning-on-flickr8k-dataset/},\n",
    "}"
   ]
  },
  {
   "cell_type": "raw",
   "metadata": {},
   "source": [
    "@misc{b4,\n",
    "      title={Show and Tell: A Neural Image Caption Generator}, \n",
    "      author={Oriol Vinyals and Alexander Toshev and Samy Bengio and Dumitru Erhan},\n",
    "      year={2015},\n",
    "      eprint={1411.4555},\n",
    "      archivePrefix={arXiv},\n",
    "      primaryClass={cs.CV}\n",
    "}"
   ]
  },
  {
   "cell_type": "raw",
   "metadata": {},
   "source": [
    "@misc{b5,\n",
    "      title={Show and Tell: A Neural Image Caption Generator}, \n",
    "      author={Oriol Vinyals and Alexander Toshev and Samy Bengio and Dumitru Erhan},\n",
    "      year={2015},\n",
    "      eprint={1411.4555},\n",
    "      archivePrefix={arXiv},\n",
    "      primaryClass={cs.CV}\n",
    "}"
   ]
  },
  {
   "cell_type": "raw",
   "metadata": {},
   "source": [
    "@article{b6,\n",
    "  author = \"Jiang, W., Ma, L., Chen, X., Zhang, H., & Liu, W\",\n",
    "   title = \"Learning to Guide Decoding for Image Captioning\",\n",
    " journal = \"Proceedings of the AAAI Conference on Artificial Intelligence,\",\n",
    "  volume = 32,\n",
    "    year = 2018,\n",
    "     url = {https://ojs.aaai.org/index.php/AAAI/article/view/12283}\n",
    "     \n",
    "}   "
   ]
  },
  {
   "cell_type": "raw",
   "metadata": {},
   "source": [
    "@misc{b7,\n",
    "      title={Show and Tell: A Neural Image Caption Generator}, \n",
    "      author={Oriol Vinyals and Alexander Toshev and Samy Bengio and Dumitru Erhan},\n",
    "      year={2015},\n",
    "      eprint={1411.4555},\n",
    "      archivePrefix={arXiv},\n",
    "      primaryClass={cs.CV}\n",
    "}"
   ]
  },
  {
   "cell_type": "raw",
   "metadata": {},
   "source": [
    "@article{b8,\n",
    "  author={Albawi, Saad and Mohammed, Tareq Abed and Al-Zawi, Saad},\n",
    "  booktitle={2017 International Conference on Engineering and Technology (ICET)}, \n",
    "  title={Understanding of a convolutional neural network}, \n",
    "  year={2017},\n",
    "  pages={1-6}\n",
    "}"
   ]
  },
  {
   "cell_type": "raw",
   "metadata": {},
   "source": [
    "@misc{b9,\n",
    "      title={Show and Tell: A Neural Image Caption Generator}, \n",
    "      author={Oriol Vinyals and Alexander Toshev and Samy Bengio and Dumitru Erhan},\n",
    "      year={2015},\n",
    "      eprint={1411.4555},\n",
    "      archivePrefix={arXiv},\n",
    "      primaryClass={cs.CV}\n",
    "}"
   ]
  },
  {
   "cell_type": "raw",
   "metadata": {},
   "source": [
    "@article{b10,\n",
    "author = {Chollet, Francois},\n",
    "title = {Xception: Deep Learning With Depthwise Separable Convolutions},\n",
    "booktitle = {Proceedings of the IEEE Conference on Computer Vision and Pattern Recognition (CVPR)},\n",
    "month = {July},\n",
    "year = {2017}\n",
    "}"
   ]
  },
  {
   "cell_type": "raw",
   "metadata": {},
   "source": [
    "@misc{b11,\n",
    "      title={Long Short-Term Memory Based Recurrent Neural Network Architectures for Large Vocabulary Speech Recognition}, \n",
    "      author={Haşim Sak and Andrew Senior and Françoise Beaufays},\n",
    "      year={2014},\n",
    "      eprint={1402.1128},\n",
    "      archivePrefix={arXiv},\n",
    "      primaryClass={cs.NE}\n",
    "}"
   ]
  },
  {
   "cell_type": "raw",
   "metadata": {},
   "source": [
    "@misc{b12,\n",
    "      title={Deep Residual Learning for Image Recognition}, \n",
    "      author={Kaiming He and Xiangyu Zhang and Shaoqing Ren and Jian Sun},\n",
    "      year={2015},\n",
    "      eprint={1512.03385},\n",
    "      archivePrefix={arXiv},\n",
    "      primaryClass={cs.CV}\n",
    "}"
   ]
  },
  {
   "cell_type": "raw",
   "metadata": {},
   "source": [
    "@online{b13,\n",
    "  author = {Jason Brownlee},\n",
    "  title = {A Gentle Introduction to Deep Learning Caption Generation Models},\n",
    "  url = {https://machinelearningmastery.com/deep-learning-caption-generation-models/},\n",
    "}"
   ]
  },
  {
   "cell_type": "raw",
   "metadata": {},
   "source": [
    "@online{b14,\n",
    "  author = {Jason Brownlee},\n",
    "  title = {How to Automatically Generate Textual Descriptions for Photographs with Deep Learning},\n",
    "  url = {https://machinelearningmastery.com/how-to-caption-photos-with-deep-learning/},\n",
    "}"
   ]
  },
  {
   "cell_type": "raw",
   "metadata": {},
   "source": [
    "@online{b15,\n",
    "  author = {Jason Brownlee},\n",
    "  title = {How to Automatically Generate Textual Descriptions for Photographs with Deep Learning},\n",
    "  url = {https://machinelearningmastery.com/how-to-caption-photos-with-deep-learning/},\n",
    "}"
   ]
  },
  {
   "cell_type": "code",
   "execution_count": null,
   "metadata": {},
   "outputs": [],
   "source": []
  }
 ],
 "metadata": {
  "kernelspec": {
   "display_name": "Python 3",
   "language": "python",
   "name": "python3"
  },
  "language_info": {
   "codemirror_mode": {
    "name": "ipython",
    "version": 3
   },
   "file_extension": ".py",
   "mimetype": "text/x-python",
   "name": "python",
   "nbconvert_exporter": "python",
   "pygments_lexer": "ipython3",
   "version": "3.8.6"
  }
 },
 "nbformat": 4,
 "nbformat_minor": 4
}
